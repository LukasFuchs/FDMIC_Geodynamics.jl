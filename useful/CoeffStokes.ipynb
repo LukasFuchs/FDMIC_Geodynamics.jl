{
 "metadata": {
  "language_info": {
   "codemirror_mode": {
    "name": "ipython",
    "version": 3
   },
   "file_extension": ".py",
   "mimetype": "text/x-python",
   "name": "python",
   "nbconvert_exporter": "python",
   "pygments_lexer": "ipython3",
   "version": "3.7.3"
  },
  "orig_nbformat": 4,
  "kernelspec": {
   "name": "python3",
   "display_name": "Python 3.7.3 64-bit (conda)"
  },
  "interpreter": {
   "hash": "9c2564d07f86efbc6ff07964bb1427659e0d6b21d8ce73cdde929a8d2b900d9a"
  }
 },
 "nbformat": 4,
 "nbformat_minor": 2,
 "cells": [
  {
   "cell_type": "code",
   "execution_count": 41,
   "metadata": {},
   "outputs": [
    {
     "output_type": "stream",
     "name": "stdout",
     "text": [
      "cVxC  = -(-2.0*etaN./dy - 1.0*etaS./dy)./dy - (-4/3*etaE./dx - 4/3*etaW./dx)./dx\ncVxW  = -4/3*etaW./dx.^2\ncVxE  = -4/3*etaE./dx.^2\ncVxS  = -1.0*etaS./dy.^2\ncVxN  = 0\ncVySW = -1.0*etaS./(dx.*dy) + 2/3*etaW./(dx.*dy)\ncVySE = -2/3*etaE./(dx.*dy) + 1.0*etaS./(dx.*dy)\ncVyNW = 1.0*etaN./(dx.*dy) - 2/3*etaW./(dx.*dy)\ncVyNE = 2/3*etaE./(dx.*dy) - 1.0*etaN./(dx.*dy)\ncPW   = -1./dx\ncPE   = 1./dx\nr   = 2.0*Dir_N.*etaN./dy.^2\n"
     ]
    }
   ],
   "source": [
    "from sympy import *\n",
    "VxC, VxW, VxE, VxS, VxN, VySW, VySE, VyNW, VyNE = symbols('VxC, VxW, VxE, VxS, VxN, VySW, VySE, VyNW, VyNE')\n",
    "etaW, etaE, etaS, etaN = symbols('etaW, etaE, etaS, etaN')\n",
    "dx, dy = symbols('dx, dy')\n",
    "PW, PE = symbols('PW, PE')\n",
    "Dir_N, r = symbols('Dir_N, r')\n",
    "\n",
    "divW = (VxC-VxW)/dx + (VyNW-VySW)/dy\n",
    "ExxW = (VxC-VxW)/dx - 1.0/3.0*divW\n",
    "divE = (VxE-VxC)/dx + (VyNE-VySE)/dy\n",
    "ExxE = (VxE-VxC)/dx - 1.0/3.0*divE\n",
    "\n",
    "ExyS = 1.0/2.0*( (VxC-VxS)/dy + (VySE-VySW)/dx)\n",
    "ExyN = 1.0/2.0*( ((2*Dir_N*r-VxC)-VxC)/dy + (VyNE-VyNW)/dx)\n",
    "# ExyN = 1.0/2.0*( (VxN-VxC)/dy + (VyNE-VyNW)/dx)\n",
    "\n",
    "SxxW = -PW + 2.0*etaW*ExxW\n",
    "SxxE = -PE + 2.0*etaE*ExxE\n",
    "SxyS =       2.0*etaS*ExyS\n",
    "SxyN =       2.0*etaN*ExyN\n",
    "\n",
    "Fx = - ( (SxxE-SxxW)/dx + (SxyN-SxyS)/dy ) \n",
    "print(\"cVxC  = \" + octave_code(Fx.diff(VxC)).replace('1.33333333333333', '4/3'))\n",
    "print(\"cVxW  = \" + octave_code(Fx.diff(VxW)).replace('1.33333333333333', '4/3'))\n",
    "print(\"cVxE  = \" + octave_code(Fx.diff(VxE)).replace('1.33333333333333', '4/3'))\n",
    "print(\"cVxS  = \" + octave_code(Fx.diff(VxS)).replace('1.33333333333333', '4/3'))\n",
    "print(\"cVxN  = \" + octave_code(Fx.diff(VxN)).replace('1.33333333333333', '4/3'))\n",
    "\n",
    "print(\"cVySW = \" + octave_code(Fx.diff(VySW)).replace('0.666666666666667', '2/3'))\n",
    "print(\"cVySE = \" + octave_code(Fx.diff(VySE)).replace('0.666666666666667', '2/3'))\n",
    "print(\"cVyNW = \" + octave_code(Fx.diff(VyNW)).replace('0.666666666666667', '2/3'))\n",
    "print(\"cVyNE = \" + octave_code(Fx.diff(VyNE)).replace('0.666666666666667', '2/3'))\n",
    "\n",
    "print(\"cPW   = \" + octave_code(Fx.diff(PW)))\n",
    "print(\"cPE   = \" + octave_code(Fx.diff(PE)))\n",
    "\n",
    "print(\"r   = \" + octave_code(-Fx.diff(r)))\n"
   ]
  },
  {
   "cell_type": "code",
   "execution_count": 39,
   "metadata": {},
   "outputs": [
    {
     "output_type": "stream",
     "name": "stdout",
     "text": [
      "cVyC  = -(-4/3*etaN./dy - 4/3*etaS./dy)./dy - (-1.0*etaE./dx - 1.0*etaW./dx)./dx\ncVyW  = -1.0*etaW./dx.^2\ncVyE  = -1.0*etaE./dx.^2\ncVyS  = -4/3*etaS./dy.^2\ncVyN  = -4/3*etaN./dy.^2\ncVxSW = 2/3*etaS./(dx.*dy) - 1.0*etaW./(dx.*dy)\ncVxSE = 1.0*etaE./(dx.*dy) - 2/3*etaS./(dx.*dy)\ncVxNW = -2/3*etaN./(dx.*dy) + 1.0*etaW./(dx.*dy)\ncVxNE = -1.0*etaE./(dx.*dy) + 2/3*etaN./(dx.*dy)\ncPS   = -1./dy\ncPN   = 1./dy\n"
     ]
    }
   ],
   "source": [
    "from sympy import *\n",
    "VyC, VyW, VyE, VyS, VyN, VxSW, VxSE, VxNW, VxNE = symbols('VyC, VyW, VyE, VyS, VyN, VxSW, VxSE, VxNW, VxNE')\n",
    "etaW, etaE, etaS, etaN = symbols('etaW, etaE, etaS, etaN')\n",
    "dx, dy = symbols('dx, dy')\n",
    "PS, PN = symbols('PS, PN')\n",
    "\n",
    "divS = (VyC-VyS)/dy + (VxSE-VxSW)/dx\n",
    "EyyS = (VyC-VyS)/dy - 1.0/3.0*divS\n",
    "divN = (VyN-VyC)/dy + (VxNE-VxNW)/dx\n",
    "EyyN = (VyN-VyC)/dy - 1.0/3.0*divN\n",
    "\n",
    "ExyW = 1.0/2.0*( (VyC-VyW)/dx + (VxNW-VxSW)/dy)\n",
    "ExyE = 1.0/2.0*( (VyE-VyC)/dx + (VxNE-VxSE)/dy)\n",
    "\n",
    "SyyS = -PS + 2.0*etaS*EyyS\n",
    "SyyN = -PN + 2.0*etaN*EyyN\n",
    "SxyW =       2.0*etaW*ExyW\n",
    "SxyE =       2.0*etaE*ExyE\n",
    "\n",
    "Fy = - ( (SyyN-SyyS)/dy + (SxyE-SxyW)/dx ) \n",
    "print(\"cVyC  = \" + octave_code(Fy.diff(VyC)).replace('1.33333333333333', '4/3'))\n",
    "print(\"cVyW  = \" + octave_code(Fy.diff(VyW)).replace('1.33333333333333', '4/3'))\n",
    "print(\"cVyE  = \" + octave_code(Fy.diff(VyE)).replace('1.33333333333333', '4/3'))\n",
    "print(\"cVyS  = \" + octave_code(Fy.diff(VyS)).replace('1.33333333333333', '4/3'))\n",
    "print(\"cVyN  = \" + octave_code(Fy.diff(VyN)).replace('1.33333333333333', '4/3'))\n",
    "\n",
    "print(\"cVxSW = \" + octave_code(Fy.diff(VxSW)).replace('0.666666666666667', '2/3'))\n",
    "print(\"cVxSE = \" + octave_code(Fy.diff(VxSE)).replace('0.666666666666667', '2/3'))\n",
    "print(\"cVxNW = \" + octave_code(Fy.diff(VxNW)).replace('0.666666666666667', '2/3'))\n",
    "print(\"cVxNE = \" + octave_code(Fy.diff(VxNE)).replace('0.666666666666667', '2/3'))\n",
    "\n",
    "print(\"cPS   = \" + octave_code(Fy.diff(PS)))\n",
    "print(\"cPN   = \" + octave_code(Fy.diff(PN)))"
   ]
  },
  {
   "cell_type": "code",
   "execution_count": null,
   "metadata": {},
   "outputs": [],
   "source": []
  }
 ]
}